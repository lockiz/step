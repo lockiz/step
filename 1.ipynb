{
 "cells": [
  {
   "cell_type": "code",
   "execution_count": 6,
   "outputs": [
    {
     "name": "stdout",
     "output_type": "stream",
     "text": [
      "Access Token: Jmy3UBUJSC2x2vtog4roCQwlFWtwZGjlKoSZQsxF\n"
     ]
    }
   ],
   "source": [
    "import requests\n",
    "\n",
    "# Замените своими данными\n",
    "CLIENT_ID = \"dwnqww5lw-H2afMEvCri\"\n",
    "CLIENT_SECRET = \"kIYqbfUZLItC2XvYkKJOm276doGJJn2RuXYaTVOm\"\n",
    "\n",
    "TOKEN_URL = \"https://api.avito.ru/token\"\n",
    "token_data = {\n",
    "    \"grant_type\": \"client_credentials\",\n",
    "    \"client_id\": CLIENT_ID,\n",
    "    \"client_secret\": CLIENT_SECRET,\n",
    "}\n",
    "\n",
    "response = requests.post(TOKEN_URL, data=token_data)\n",
    "if response.status_code == 200:\n",
    "    tokens = response.json()\n",
    "    print(\"Access Token:\", tokens[\"access_token\"])\n",
    "else:\n",
    "    print(\"Ошибка авторизации:\", response.text)\n"
   ],
   "metadata": {
    "collapsed": false,
    "ExecuteTime": {
     "end_time": "2024-12-24T21:02:44.696127Z",
     "start_time": "2024-12-24T21:02:44.584140Z"
    }
   },
   "id": "e46be625e855cd6c"
  },
  {
   "cell_type": "code",
   "execution_count": 7,
   "outputs": [
    {
     "name": "stdout",
     "output_type": "stream",
     "text": [
      "Ошибка запроса: {\"message\":\"no Route matched with those values\"}\n"
     ]
    }
   ],
   "source": [
    "API_URL = \"https://api.avito.ru/v2/some_endpoint\"\n",
    "access_token = \"Jmy3UBUJSC2x2vtog4roCQwlFWtwZGjlKoSZQsxF\"\n",
    "\n",
    "headers = {\n",
    "    \"Authorization\": f\"Bearer {access_token}\",\n",
    "    \"Content-Type\": \"application/json\",\n",
    "}\n",
    "\n",
    "response = requests.get(API_URL, headers=headers)\n",
    "if response.status_code == 200:\n",
    "    print(\"Ответ API:\", response.json())\n",
    "else:\n",
    "    print(\"Ошибка запроса:\", response.text)\n"
   ],
   "metadata": {
    "collapsed": false,
    "ExecuteTime": {
     "end_time": "2024-12-24T21:03:16.624131Z",
     "start_time": "2024-12-24T21:03:16.572528Z"
    }
   },
   "id": "7b8bc7d9ea54439d"
  },
  {
   "cell_type": "code",
   "execution_count": 9,
   "outputs": [
    {
     "name": "stdout",
     "output_type": "stream",
     "text": [
      "Ошибка: 403 {\"code\":403,\"message\":\"API работает только с Авито Доставкой для бизнеса. Чтобы её включить, нужно указать реквизиты компании и настроить тариф. Подробнее: avito.ru/general/dostavka\"}\n"
     ]
    }
   ],
   "source": [
    "import requests\n",
    "\n",
    "# Токен авторизации\n",
    "ACCESS_TOKEN = 'Jmy3UBUJSC2x2vtog4roCQwlFWtwZGjlKoSZQsxF'\n",
    "\n",
    "# URL API\n",
    "BASE_URL = 'https://api.avito.ru/order-management/1/orders'\n",
    "\n",
    "# Заголовки для авторизации\n",
    "headers = {\n",
    "    'Authorization': f'Bearer {ACCESS_TOKEN}',\n",
    "}\n",
    "\n",
    "# Параметры запроса\n",
    "params = {\n",
    "    'statuses': ['ready_to_ship'],  # Статусы заказов\n",
    "    'limit': 5,                     # Максимум 5 заказов\n",
    "    'page': 1                       # Первая страница\n",
    "}\n",
    "\n",
    "# Выполнение запроса\n",
    "response = requests.get(BASE_URL, headers=headers, params=params)\n",
    "\n",
    "# Вывод результата\n",
    "if response.status_code == 200:\n",
    "    print(\"Результат:\", response.json())\n",
    "else:\n",
    "    print(\"Ошибка:\", response.status_code, response.text)\n"
   ],
   "metadata": {
    "collapsed": false,
    "ExecuteTime": {
     "end_time": "2024-12-24T21:08:48.200880Z",
     "start_time": "2024-12-24T21:08:48.146318Z"
    }
   },
   "id": "d60520d8f8589a72"
  },
  {
   "cell_type": "code",
   "execution_count": null,
   "outputs": [],
   "source": [],
   "metadata": {
    "collapsed": false
   },
   "id": "658e86c2d20b0144"
  }
 ],
 "metadata": {
  "kernelspec": {
   "display_name": "Python 3",
   "language": "python",
   "name": "python3"
  },
  "language_info": {
   "codemirror_mode": {
    "name": "ipython",
    "version": 2
   },
   "file_extension": ".py",
   "mimetype": "text/x-python",
   "name": "python",
   "nbconvert_exporter": "python",
   "pygments_lexer": "ipython2",
   "version": "2.7.6"
  }
 },
 "nbformat": 4,
 "nbformat_minor": 5
}
